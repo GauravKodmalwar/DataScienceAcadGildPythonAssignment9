{
 "cells": [
  {
   "cell_type": "markdown",
   "metadata": {},
   "source": [
    "<h3>\n",
    "Task 1:\n",
    "</h3>"
   ]
  },
  {
   "cell_type": "markdown",
   "metadata": {},
   "source": [
    "1. You survey households in your area to find the average rent they are paying. Find the\n",
    "standard deviation from the following data: $1550, $1700, $900, $850, $1000, $950"
   ]
  },
  {
   "cell_type": "code",
   "execution_count": 19,
   "metadata": {},
   "outputs": [],
   "source": [
    "import numpy as np\n",
    "from scipy.stats import binom, poisson"
   ]
  },
  {
   "cell_type": "code",
   "execution_count": 5,
   "metadata": {},
   "outputs": [
    {
     "data": {
      "text/plain": [
       "335.92740617910624"
      ]
     },
     "execution_count": 5,
     "metadata": {},
     "output_type": "execute_result"
    }
   ],
   "source": [
    "varHouseRents = np.array([1550, 1700, 900, 850, 1000, 950])\n",
    "varHouseRents.std()"
   ]
  },
  {
   "cell_type": "markdown",
   "metadata": {},
   "source": [
    "2. Find the variance for the following set of data representing trees in California (heights in\n",
    "feet):\n",
    "3, 21, 98, 203, 17, 9"
   ]
  },
  {
   "cell_type": "code",
   "execution_count": 12,
   "metadata": {},
   "outputs": [
    {
     "data": {
      "text/plain": [
       "5183.25"
      ]
     },
     "execution_count": 12,
     "metadata": {},
     "output_type": "execute_result"
    }
   ],
   "source": [
    "varTreeHeight = np.array([3, 21, 98, 203, 17, 9])\n",
    "varTreeHeight.var()"
   ]
  },
  {
   "cell_type": "markdown",
   "metadata": {},
   "source": [
    "3. In a class on 100 students, 80 students passed in all subjects, 10 failed in one subject, 7 failed\n",
    "in two subjects and 3 failed in three subjects. Find the probability distribution of the variable for\n",
    "number of subjects a student from the given class has failed in."
   ]
  },
  {
   "cell_type": "code",
   "execution_count": null,
   "metadata": {},
   "outputs": [],
   "source": [
    "# Total number of students 100\n",
    "# Probability of students failed in 0 subjects = 0.8 (80/100)\n",
    "# Probability of students failed in 1 subjects = 0.1 (10/100)\n",
    "# Probability of students failed in 2 subjects = 0.07 (7/100)\n",
    "# Probability of students failed in 3 subjects = 0.03 (3/100)\n",
    "\n",
    "Probability distribution function will be \n",
    "\n",
    "f(0) = 0.8\n",
    "f(1) = 0.1\n",
    "f(2) = 0.07\n",
    "f(3) = 0.03"
   ]
  },
  {
   "cell_type": "markdown",
   "metadata": {},
   "source": [
    "<h3>\n",
    "Task 2\n",
    "</h3>"
   ]
  },
  {
   "cell_type": "markdown",
   "metadata": {},
   "source": [
    "1. A test is conducted which is consisting of 20 MCQs (multiple choices questions) with every\n",
    "MCQ having its four options out of which only one is correct. Determine the probability that a\n",
    "person undertaking that test has answered exactly 5 questions wrong."
   ]
  },
  {
   "cell_type": "code",
   "execution_count": 19,
   "metadata": {},
   "outputs": [
    {
     "data": {
      "text/plain": [
       "3.4264958230778435e-06"
      ]
     },
     "execution_count": 19,
     "metadata": {},
     "output_type": "execute_result"
    }
   ],
   "source": [
    "# expected function will be for 5\n",
    "# total trials are 20\n",
    "# probability of wrong is 3/4 i.e. 0.75. Because only 1 answer out of 4 options is correct.\n",
    "binom.pmf(5, 20, 0.75)"
   ]
  },
  {
   "cell_type": "markdown",
   "metadata": {},
   "source": [
    "2. A die marked A to E is rolled 50 times. Find the probability of getting a “D” exactly 5 times."
   ]
  },
  {
   "cell_type": "code",
   "execution_count": 23,
   "metadata": {},
   "outputs": [
    {
     "data": {
      "text/plain": [
       "0.07450225899286156"
      ]
     },
     "execution_count": 23,
     "metadata": {},
     "output_type": "execute_result"
    }
   ],
   "source": [
    "# expected function will be for 5\n",
    "# total trials are 50\n",
    "# Die is marked as A to E i.e. 5 alphabets but Die has 6 sides. So probability of getting any one side is 1/6\n",
    "binom.pmf(5, 50, 1/6)"
   ]
  },
  {
   "cell_type": "markdown",
   "metadata": {},
   "source": [
    "3. Two balls are drawn at random in succession without replacement from an urn containing 4\n",
    "red balls and 6 black balls.\n",
    "Find the probabilities of all the possible outcomes."
   ]
  },
  {
   "cell_type": "code",
   "execution_count": 37,
   "metadata": {},
   "outputs": [
    {
     "name": "stdout",
     "output_type": "stream",
     "text": [
      "******* Correct Answer *******\n",
      "probability of both balls to be red 0.13333333333333336\n",
      "probability of both balls to be black 0.3333333333333333\n",
      "probability of one red and one black 0.2666666666666667\n",
      "probability of one black and one red 0.26666666666666666\n"
     ]
    }
   ],
   "source": [
    "#Correct Answer\n",
    "# There are three probabilities: 1) Both are Red 2) Both are Black 3) One Red and One Black\n",
    "# Since second ball is picked up without replacement so probabilities for first and second pick will be different\n",
    "\n",
    "print(\"******* Correct Answer *******\")\n",
    "# Both Red. First one out of 10 and second one out of 9\n",
    "print('probability of both balls to be red {}'.format(4/10 * 3/9))\n",
    "\n",
    "# Both Black. First one out of 10 and second one out of 9\n",
    "print('probability of both balls to be black {}'.format(6/10 * 5/9))\n",
    "\n",
    "# One Red and One Black\n",
    "print('probability of one red and one black {}'.format(4/10 * 6/9))\n",
    "\n",
    "# One Black and One Red\n",
    "print('probability of one black and one red {}'.format(6/10 * 4/9))"
   ]
  },
  {
   "cell_type": "code",
   "execution_count": 38,
   "metadata": {},
   "outputs": [
    {
     "name": "stdout",
     "output_type": "stream",
     "text": [
      "******* Incorrect Answer *******\n",
      "Probability of both balls to be Red:  0.0002836415696503247\n",
      "Probability of both balls to be Black:  0.003829161190279386\n",
      "Probability of First Red and Second Black:  0.2812423706054688\n",
      "Probability of First Black and Second Red:  0.4140625000000001\n"
     ]
    }
   ],
   "source": [
    "#INCORRECT ANSWER when I was trying by farmula. Any suggestions?\n",
    "\n",
    "print(\"******* Incorrect Answer *******\")\n",
    "# Both Red\n",
    "print('Probability of both balls to be Red: ', poisson.pmf(4, 10) * poisson.pmf(3, 9))\n",
    "\n",
    "# Both Black\n",
    "print('Probability of both balls to be Black: ', poisson.pmf(6, 10) * poisson.pmf(5, 9))\n",
    "\n",
    "# First Red and Second Black\n",
    "print('Probability of First Red and Second Black: ', binom.cdf(4, 10, 0.5) * binom.cdf(5, 9, 0.5))\n",
    "\n",
    "# First Black and Second Red\n",
    "print('Probability of First Black and Second Red: ', binom.cdf(6, 10, 0.5) * binom.cdf(4, 9, 0.5))"
   ]
  },
  {
   "cell_type": "code",
   "execution_count": null,
   "metadata": {},
   "outputs": [],
   "source": []
  }
 ],
 "metadata": {
  "kernelspec": {
   "display_name": "Python 3",
   "language": "python",
   "name": "python3"
  },
  "language_info": {
   "codemirror_mode": {
    "name": "ipython",
    "version": 3
   },
   "file_extension": ".py",
   "mimetype": "text/x-python",
   "name": "python",
   "nbconvert_exporter": "python",
   "pygments_lexer": "ipython3",
   "version": "3.7.1"
  }
 },
 "nbformat": 4,
 "nbformat_minor": 2
}
